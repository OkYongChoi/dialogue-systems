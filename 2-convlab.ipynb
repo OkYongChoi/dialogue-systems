{
 "cells": [
  {
   "cell_type": "markdown",
   "metadata": {},
   "source": [
    "# Practice 2. Building a Pipelined Conversation System using ConvLab\n",
    "\n",
    "# index\n",
    "\n",
    "## Step 1. Let's look at the MultiWOZ dataset\n",
    "\n",
    "## Step 2. Build a Pipelined Conversation System Using ConvLab\n",
    "\n",
    "## Step 3. Configure, diagnose, and evaluate models with modules provided by ConvLab\n",
    "\n",
    "## Additional. Try the End-to-end Neural Pipeline (ACL 2020) model"
   ]
  },
  {
   "cell_type": "markdown",
   "metadata": {},
   "source": [
    "# Step 1. Take a look at the MultiWOZ dataset\n",
    "\n",
    "## Step 1.0 Preset\n",
    "\n",
    "These are modules that help the code below, and can be modified if necessary."
   ]
  },
  {
   "cell_type": "code",
   "execution_count": null,
   "metadata": {},
   "outputs": [],
   "source": [
    "import json\n",
    "import os\n",
    "import zipfile\n",
    "import sys\n",
    "from collections import Counter\n",
    "from nltk.tokenize import word_tokenize\n",
    "\n",
    "from textwrap import indent\n",
    "from pprint import pformat\n",
    "from pprint import pprint\n",
    "\n",
    "CUDA_IDX = '0'\n",
    "os.environ['CUDA_VISIBLE_DEVICES'] = CUDA_IDX\n",
    "\n",
    "def read_zipped_json(filepath, filename):\n",
    "    archive = zipfile.ZipFile(filepath, 'r')\n",
    "    return json.load(archive.open(filename))\n",
    "\n",
    "def pprint_manual(user_manual, name):\n",
    "    \"\"\"print user manual\n",
    "        argument 'name' is needed to discriminate 'WOZ' from others\n",
    "    \"\"\"\n",
    "    print('    User manual (message) : ')\n",
    "    if 'WOZ' in name:\n",
    "        print(\" \"*8, user_manual)\n",
    "    else:\n",
    "        for manual_one in user_manual:            print(\" \"*8, manual_one)\n",
    "\n",
    "\n",
    "def pprint_goal(goal, name):\n",
    "    \"\"\"print user's goal\n",
    "        argument 'name' is needed to discriminate \"WOZ\" from others.\n",
    "    \"\"\"\n",
    "    if 'WOZ' in name:\n",
    "        pass\n",
    "    else:\n",
    "        for i, mes in enumerate(goal['message']):\n",
    "            mes = mes.replace('<span class=\\'emphasis\\'>', '')\n",
    "            mes = mes.replace('</span>', '')\n",
    "            goal['message'][i] = mes\n",
    "\n",
    "    print(\"[Goals]\")\n",
    "    user_manual = None\n",
    "    for key, value in goal.items():\n",
    "        if not value:           # empty\n",
    "            continue\n",
    "        elif key == 'message':  # user manual\n",
    "            user_manual = value\n",
    "        else:                   # valid domain\n",
    "            domain = key        \n",
    "            print(indent(pformat({domain : value}), ' '*4))\n",
    "    pprint_manual(user_manual, name)  \n",
    "\n",
    "def get_valid_domains(goal):\n",
    "    \"\"\"return valid domains for pretty print\"\"\"\n",
    "    domains = []\n",
    "    for key, value in goal.items():\n",
    "        if not value:           # empty\n",
    "            continue\n",
    "        elif key == 'message':  # user manual\n",
    "            continue\n",
    "        else:                   # valid domain\n",
    "            domains.append(key)\n",
    "    return domains\n",
    "\n",
    "def pprint_turns(log, domains):\n",
    "    \"\"\"pretty print for dialogue turns\"\"\"\n",
    "    \n",
    "    # signal for stopping print\n",
    "    signal = None\n",
    "    \n",
    "    for i, log_one in enumerate(log):\n",
    "        \n",
    "        # dummy input function for pausing\n",
    "        print('-' * 20 + '1. Enter to keep going 2. Type \\'stop\\' and Enter to stop printing ' + '-' * 40)\n",
    "        signal = input()\n",
    "        if 'stop' in signal:\n",
    "            break\n",
    "\n",
    "        # check whether system turn or not\n",
    "        bool_sys_turn = False\n",
    "        if log_one['metadata']:\n",
    "            bool_sys_turn = True\n",
    "\n",
    "        # delete span_info\n",
    "        if 'span_info' in log_one:\n",
    "            del log_one['span_info']\n",
    "\n",
    "        # delete unnecessary domains\n",
    "        domain_pairs = log_one['metadata']\n",
    "        del_domains = []\n",
    "        for dom, _ in domain_pairs.items():\n",
    "            if not dom in domains:\n",
    "                del_domains.append(dom)\n",
    "        for dom in del_domains:\n",
    "            del domain_pairs[dom]\n",
    "    \n",
    "        # pretty print\n",
    "        if bool_sys_turn: print(\"[SYS]\", end=\" \")\n",
    "        else:             print(\"[USR]\", end=\" \")\n",
    "        print(\"(turn {})\".format(i))\n",
    "\n",
    "        log_one['1. dialogue_state'] = log_one['metadata']\n",
    "        log_one['2. dialogue_act'] = log_one['dialog_act']\n",
    "        log_one['3. text'] = log_one['text']\n",
    "        del log_one['metadata']\n",
    "        del log_one['dialog_act']\n",
    "        del log_one['text']\n",
    "        print(indent(pformat(log_one, width=100), ' ' * 4))\n",
    "    \n",
    "    # transform signal to boolean\n",
    "    if 'stop' in signal:\n",
    "        signal = True\n",
    "    else: \n",
    "        signal = False\n",
    "    return signal"
   ]
  },
  {
   "cell_type": "markdown",
   "metadata": {},
   "source": [
    "### Step 1.1 Import the MultiWOZ dataset.\n",
    "\n",
    "The MultiWOZ dataset consists of 7 domains ('hotel', 'train', 'attraction', 'restaurant', 'taxi', 'policy', 'hospital'). This is a data set about the conversations the 'system' has to help.\n",
    "It consists of about 10,000 dialog sets, and is divided for train, validation, and test.\n",
    "\n",
    "If the code below is executed, 100 data names for train in the MultiWOZ data set are output."
   ]
  },
  {
   "cell_type": "code",
   "execution_count": null,
   "metadata": {
    "tags": []
   },
   "outputs": [],
   "source": [
    "cur_dir = os.path.abspath(os.curdir)\n",
    "print(\"current directory :\", cur_dir)\n",
    "data_dir = \"ConvLab-2/data/multiwoz\"\n",
    "processed_data_dir = os.path.join(cur_dir, 'multiwoz_data/all_data')\n",
    "if not os.path.exists(processed_data_dir):\n",
    "    os.makedirs(processed_data_dir)\n",
    "\n",
    "data_key = ['train', 'val', 'test']\n",
    "data = {}\n",
    "for key in data_key:\n",
    "    data[key] = read_zipped_json(os.path.join(data_dir, key + '.json.zip'), key + '.json')\n",
    "    print('load {}.json...! '.format(os.path.join(data_dir, key)))\n",
    "    print('number of dialogues : {}'.format(len(data[key])))\n",
    "print()\n",
    "\n",
    "# print available dialogue name until 100\n",
    "print(list(data['train'].keys())[:100])\n"
   ]
  },
  {
   "cell_type": "markdown",
   "metadata": {},
   "source": [
    "## Step 1.2 Let's see what the data looks like.\n",
    "\n",
    "You can check the dialogue by inserting some of the data names printed above into the Python list. (ex. names = \\['SNG0943', 'MUL1801'] ))\n",
    "\n",
    "One dialogue is loud\n",
    "\n",
    "1. The user's goal, ('goal' in the code))\n",
    "\n",
    "2. Conversation between system and user, ('dialogue_turns' in code))\n",
    "\n",
    "are separated by .\n",
    "\n",
    "***\n",
    "\n",
    "user (\\[USR]]) reads the defined goal and manual, and conducts a conversation to achieve the goal.\n",
    "\n",
    "The system (\\[SYS]) does not know the user's goal, (1) grasps the conditions the user wants through conversation, (2) provides the information the user wants, and (3) makes a reservation if necessary.\n",
    "\n",
    "***\n",
    "\n",
    "within the goal,\n",
    "\n",
    "`info` is the content from the user's point of view to inform the system of the conditions and needs that the user wants,\n",
    "\n",
    "`reqt` is the content that uesr wants to request from the system from the user's point of view.\n",
    "\n",
    "***\n",
    "\n",
    "In the case of this dataset, the goal is to create a __system model__.\n",
    "\n",
    "***\n",
    "\n",
    "If you run the code below, you can see the goal and utterance, and you can skip it with Enter.\n",
    "\n",
    "If you want to stop watching, type stop and then press Enter."
   ]
  },
  {
   "cell_type": "code",
   "execution_count": null,
   "metadata": {
    "tags": []
   },
   "outputs": [],
   "source": [
    "# You can handle dialogue_names\n",
    "dialogue_names = ['SNG0943', 'MUL1801']\n",
    "\n",
    "for name in dialogue_names:\n",
    "    \n",
    "    print()\n",
    "    print('-' * 125)\n",
    "    print(\"[Dialogue name] \\'{}\\'\".format(name))\n",
    "\n",
    "    # access datum using name\n",
    "    datum = data['train'][name]\n",
    "    goal = datum['goal']\n",
    "    dialogue_turns = datum['log']\n",
    "\n",
    "    # print goal and dialogue turns\n",
    "    pprint_goal(goal, name)\n",
    "    valid_domains = get_valid_domains(goal)\n",
    "    break_signal = pprint_turns(dialogue_turns, valid_domains)  # If you don't want to see print, please comment!\n",
    "    # break_signal = pprint_turns(dialogue_turns, valid_domains)    Like this!\n",
    "\n",
    "    if break_signal:\n",
    "        break"
   ]
  },
  {
   "cell_type": "markdown",
   "metadata": {},
   "source": [
    "# Step 2. Build a Pipelined Conversation System using ConvLab\n",
    "\n",
    "## Step 2.0 Define required modules\n",
    "\n",
    "These are modules that help the code below, and can be modified if necessary."
   ]
  },
  {
   "cell_type": "code",
   "execution_count": null,
   "metadata": {
    "tags": []
   },
   "outputs": [],
   "source": [
    "!python -m spacy download en_core_web_sm"
   ]
  },
  {
   "cell_type": "code",
   "execution_count": null,
   "metadata": {
    "tags": []
   },
   "outputs": [],
   "source": [
    "# common import: convlab2.$module.$model.$dataset\n",
    "from convlab2.nlu.jointBERT.multiwoz import BERTNLU\n",
    "from convlab2.nlu.milu.multiwoz import MILU\n",
    "from convlab2.dst.rule.multiwoz import RuleDST\n",
    "from convlab2.policy.rule.multiwoz import RulePolicy\n",
    "from convlab2.nlg.template.multiwoz import TemplateNLG\n",
    "from convlab2.dialog_agent import BiSession, Agent, PipelineAgent\n",
    "from convlab2.evaluator.multiwoz_eval import MultiWozEvaluator\n",
    "from pprint import pprint\n",
    "import random\n",
    "import numpy as np\n",
    "import torch\n",
    "import spacy\n",
    "\n",
    "import logging \n",
    "# uncessary logging block\n",
    "mpl_logger = logging.getLogger('matplotlib') \n",
    "mpl_logger.setLevel(logging.WARNING) \n",
    "cntp_logger = logging.getLogger('urllib3.connectionpool')\n",
    "cntp_logger.setLevel(logging.WARNING)\n",
    "ttu_logger = logging.getLogger('transformers.tokenization_utils')\n",
    "ttu_logger.setLevel(logging.WARNING)\n",
    "tcu_logger = logging.getLogger('transformers.configuration_utils')\n",
    "tcu_logger.setLevel(logging.WARNING)\n",
    "tmu_logger = logging.getLogger('transformers.modeling_utils')\n",
    "tmu_logger.setLevel(logging.WARNING)\n",
    "logging.getLogger().setLevel(logging.INFO)\n",
    "import warnings\n",
    "warnings.filterwarnings(\"ignore\")\n",
    "\n",
    "def set_seed(r_seed):\n",
    "    random.seed(r_seed)\n",
    "    np.random.seed(r_seed)\n",
    "    torch.manual_seed(r_seed)\n"
   ]
  },
  {
   "cell_type": "markdown",
   "metadata": {},
   "source": [
    "## Step 2.1 Let's look at an example Pipelined dialog system.\n",
    "\n",
    "First, let's see how we can conduct a conversation when the system model is configured as a pipelined dialog system.\n",
    "\n",
    "The pipelined dialog model consists of four main parts.\n",
    "\n",
    "NLU (Natural Language Understanding (Language Recognition Module)): Understands and interprets the immediately preceding opponent's utterance.\n",
    "\n",
    "DST (Dialogue State Tracking module): Tracks the context of a conversation up to now, and updates any changes.\n",
    "\n",
    "Dialogue Policy module: Determines the policy in the form of structured words for the next utterance. (It only determines the intent, not the natural form of the sentence.)\n",
    "\n",
    "NLG (Natural Language Generation): Generates human-readable natural language with a determined policy.\n",
    "\n",
    "-----------------\n",
    "\n",
    "Below is an example of configuring the most basic Pipelined dialog system.\n",
    "\n",
    "BERT NLU: BERT NLU dealt with in practice 1 above\n",
    "\n",
    "RuleDST : Rule-based DST module\n",
    "\n",
    "RulePolicy : Rule-based Policy module\n",
    "\n",
    "TemplateNLG: Template-based (a method of filling in words on a set template) NLG module\n",
    "\n",
    "When you have finished defining 4 modules, declare sys_agent by wrapping it in a wrapper called PipelineAgent."
   ]
  },
  {
   "cell_type": "code",
   "execution_count": null,
   "metadata": {
    "tags": []
   },
   "outputs": [],
   "source": [
    "spacy.load('en_core_web_sm')\n",
    "# MILU\n",
    "sys_nlu = MILU()\n",
    "# simple rule DST\n",
    "sys_dst = RuleDST()\n",
    "# rule policy\n",
    "sys_policy = RulePolicy()\n",
    "# template NLG\n",
    "sys_nlg = TemplateNLG(is_user=False)\n",
    "# assemble\n",
    "sys_agent = PipelineAgent(sys_nlu, sys_dst, sys_policy, sys_nlg, name='sys')"
   ]
  },
  {
   "cell_type": "markdown",
   "metadata": {},
   "source": [
    "sys_agent.response(\"user's utterance\", print_nlu=False, print_dst=False, print_pol=False) , it responds to user's utterance.\n",
    "\n",
    "If you change print_nlu, print_dst, and print_pol to True, you can print the corresponding value."
   ]
  },
  {
   "cell_type": "code",
   "execution_count": null,
   "metadata": {},
   "outputs": [],
   "source": [
    "sys_agent.init_session()\n",
    "sys_agent.response(\"I want to find a moderate hotel\", print_nlu=False, print_dst=False, print_pol=False)"
   ]
  },
  {
   "cell_type": "code",
   "execution_count": null,
   "metadata": {},
   "outputs": [],
   "source": [
    "sys_agent.response(\"Which type of hotel is it ?\")"
   ]
  },
  {
   "cell_type": "code",
   "execution_count": null,
   "metadata": {},
   "outputs": [],
   "source": [
    "sys_agent.response(\"OK , where is its address ?\")"
   ]
  },
  {
   "cell_type": "code",
   "execution_count": null,
   "metadata": {},
   "outputs": [],
   "source": [
    "sys_agent.response(\"Thank you !\")"
   ]
  },
  {
   "cell_type": "code",
   "execution_count": null,
   "metadata": {},
   "outputs": [],
   "source": [
    "sys_agent.response(\"Try to find me a Chinese restaurant in south area .\")"
   ]
  },
  {
   "cell_type": "code",
   "execution_count": null,
   "metadata": {},
   "outputs": [],
   "source": [
    "sys_agent.response(\"Which kind of food it provides ?\")"
   ]
  },
  {
   "cell_type": "code",
   "execution_count": null,
   "metadata": {},
   "outputs": [],
   "source": [
    "sys_agent.response(\"Book a table for 5 , this Sunday .\")"
   ]
  },
  {
   "cell_type": "markdown",
   "metadata": {},
   "source": [
    "## Step 2.2 Let's configure the user simulator to talk to the system agent.\n",
    "\n",
    "In order to check the performance of the system model, a user simulator that can act as a user is required.\n",
    "\n",
    "This is because it requires a lot of labor for a person to take the role of a user and exchange conversations every time.\n",
    "\n",
    "In particular, when the Dialog Policy is set as the RL agent, the user simulator is essential for various conversation attempts.\n",
    "\n",
    "In ConvLab, when RulePolicy(character='usr') is set, it is converted into `Agenda` policy, which can define a user model based on the user's goal.\n",
    "\n",
    "Also, since the `Agenda` policy also includes the dst model, `user_dst = None` becomes."
   ]
  },
  {
   "cell_type": "code",
   "execution_count": null,
   "metadata": {
    "tags": []
   },
   "outputs": [],
   "source": [
    "# MILU\n",
    "user_nlu = MILU()\n",
    "# not use dst\n",
    "user_dst = None\n",
    "# rule policy\n",
    "user_policy = RulePolicy(character='usr')   # UserPolicyAgendaMultiWoz()\n",
    "# template NLG\n",
    "user_nlg = TemplateNLG(is_user=True)\n",
    "# user_nlg = SCLSTM(is_user=True)\n",
    "# assemble\n",
    "user_agent = PipelineAgent(user_nlu, user_dst, user_policy, user_nlg, name='user')"
   ]
  },
  {
   "cell_type": "markdown",
   "metadata": {},
   "source": [
    "## Step 2.3 Let's conduct a conversation between the user simulator and the system model.\n",
    "\n",
    "So far, we have defined a user simulator and a system model.\n",
    "\n",
    "The `MultiWozEvaluator` class is used to evaluate performance. (Defines the user's goal.)\n",
    "\n",
    "The `BiSession` class helps to talk and evaluate the user simulator and system model.\n",
    "\n",
    "The `next_turn` function performs one turn of conversation.\n",
    "\n",
    "### Rating metric\n",
    "\n",
    "- Success rate: Reservation successful + recall == 1, that is, making a reservation that meets the user's condition, and outputting an appropriate value for all requested information\n",
    "\n",
    "- Book rate: Reservation completion rate (= Number of successful reservations / Number of correct reservations)\n",
    "\n",
    "- Inform precision: (TP) / (TP + FP), low precision can be interpreted as notifying a lot of unnecessary information other than the requested slot.\n",
    "\n",
    "- Inform recall: (TP) / (TP + FN), low recall can be interpreted as not answering the requested slot.\n",
    "\n",
    "- Inform F1: Harmonic Average for Precision & Recall"
   ]
  },
  {
   "cell_type": "code",
   "execution_count": null,
   "metadata": {
    "tags": []
   },
   "outputs": [],
   "source": [
    "evaluator = MultiWozEvaluator()\n",
    "sess = BiSession(sys_agent=sys_agent, user_agent=user_agent, kb_query=None, evaluator=evaluator)\n",
    "\n",
    "set_seed(20200804)\n",
    "\n",
    "sys_response = ''\n",
    "sess.init_session()\n",
    "print('init goal:')\n",
    "pprint(sess.evaluator.goal)\n",
    "print('-'*100)\n",
    "for i in range(20):\n",
    "    sys_response, user_response, session_over, reward = sess.next_turn(sys_response)\n",
    "    print('user:', user_response)\n",
    "    print('sys:', sys_response)\n",
    "    print()\n",
    "    if session_over is True:\n",
    "        break\n",
    "print('task success:', sess.evaluator.task_success())\n",
    "print('book rate:', sess.evaluator.book_rate())\n",
    "print('inform precision/recall/f1:', sess.evaluator.inform_F1())\n",
    "print('-'*50)\n",
    "print('final goal:')\n",
    "pprint(sess.evaluator.goal)\n",
    "\n",
    "print('='*100)"
   ]
  },
  {
   "cell_type": "markdown",
   "metadata": {},
   "source": [
    "# Step 3. Configure, diagnose, and evaluate models with modules provided by ConvLab\n",
    "\n",
    "## Step 3.0. Loads models supported by ConvLab.\n",
    "\n",
    "Available models:\n",
    "\n",
    "- NLU: BERTNLU, MILU, SVMNLU\n",
    "- DST: RuleDST\n",
    "- Word-DST: SUMBT, TRADE (set `sys_nlu` to `None`)\n",
    "- Policy: RulePolicy, Imitation, REINFORCE, PPO, GDPL\n",
    "- Word-Policy: MDRG, HDSA, LaRL (set `sys_nlg` to `None`)\n",
    "- NLG: Template, SCLSTM\n",
    "- End2End: Sequicity, DAMD, RNN_rollout (directly used as `sys_agent`)\n",
    "- Simulator policy: Agenda, VHUS (for `user_policy`)"
   ]
  },
  {
   "cell_type": "code",
   "execution_count": null,
   "metadata": {
    "tags": []
   },
   "outputs": [],
   "source": [
    "# available NLU models\n",
    "from convlab2.nlu.svm.multiwoz import SVMNLU\n",
    "from convlab2.nlu.jointBERT.multiwoz import BERTNLU\n",
    "from convlab2.nlu.milu.multiwoz import MILU\n",
    "# available DST models\n",
    "from convlab2.dst.rule.multiwoz import RuleDST\n",
    "#from convlab2.dst.mdbt.multiwoz import MDBT\n",
    "from convlab2.dst.sumbt.multiwoz import SUMBT\n",
    "from convlab2.dst.trade.multiwoz import TRADE\n",
    "# available Policy models\n",
    "from convlab2.policy.rule.multiwoz import RulePolicy\n",
    "from convlab2.policy.ppo.multiwoz import PPOPolicy\n",
    "from convlab2.policy.pg.multiwoz import PGPolicy\n",
    "from convlab2.policy.mle.multiwoz import MLEPolicy\n",
    "from convlab2.policy.gdpl.multiwoz import GDPLPolicy\n",
    "#from convlab2.policy.vhus.multiwoz import UserPolicyVHUS\n",
    "from convlab2.policy.mdrg.multiwoz import MDRGWordPolicy\n",
    "from convlab2.policy.hdsa.multiwoz import HDSA\n",
    "from convlab2.policy.larl.multiwoz import LaRL\n",
    "# available NLG models\n",
    "from convlab2.nlg.template.multiwoz import TemplateNLG\n",
    "from convlab2.nlg.sclstm.multiwoz import SCLSTM\n",
    "# available E2E models\n",
    "from convlab2.e2e.sequicity.multiwoz import Sequicity\n",
    "from convlab2.e2e.damd.multiwoz import Damd"
   ]
  },
  {
   "cell_type": "markdown",
   "metadata": {},
   "source": [
    "## Step 3.1. Let's make our own dialog system with models supported by ConvLab.\n",
    "\n",
    "Word-DST models refer to the combined model of NLU and DST. Therefore, it can be used without a separate NLU model.\n",
    "\n",
    "Therefore, (1) NLU+RuleDST or (2) Word-DST can be combined.\n",
    "\n",
    "**\\[Caution!]** For Word-DST, sys_nlu = None.\n",
    "\n",
    "Word-Policy models refer to the combined model of Dialogue Policy and NLG. So it can be used without a separate NLG model.\n",
    "\n",
    "Therefore, it is possible to combine (1) Policy+NLG or Word-Policy.\n",
    "\n",
    "**\\[Caution!]** For Word-Policy, sys_nlg = None.\n",
    "\n",
    "You can use the `PipelineAgent` class to create a Pipelined dialog system. Alternatively, you can use the End-to-End model."
   ]
  },
  {
   "cell_type": "code",
   "execution_count": null,
   "metadata": {
    "tags": [
     "outputPrepend"
    ]
   },
   "outputs": [],
   "source": [
    "# NLU+RuleDST:\n",
    "sys_nlu = MILU()\n",
    "# sys_nlu = SVMNLU()\n",
    "# sys_nlu = BERTNLU()\n",
    "sys_dst = RuleDST()\n",
    "\n",
    "# or Word-DST:\n",
    "# sys_nlu = None\n",
    "# sys_dst = SUMBT()\n",
    "# sys_dst = TRADE()\n",
    "#### (not working!) sys_dst = MDBT()\n",
    "\n",
    "# [Caution] In Word-DST case, sys_nlu must be \"None\"\n",
    "\n",
    "# Policy+NLG:\n",
    "sys_policy = RulePolicy()\n",
    "# sys_policy = PPOPolicy()\n",
    "# sys_policy = PGPolicy()\n",
    "# sys_policy = MLEPolicy()\n",
    "# sys_policy = GDPLPolicy()\n",
    "sys_nlg = TemplateNLG(is_user=False)\n",
    "#sys_nlg = SCLSTM(is_user=False)\n",
    "\n",
    "# or Word-Policy:\n",
    "# sys_policy = LaRL()\n",
    "# sys_policy = HDSA()\n",
    "# sys_policy = MDRGWordPolicy()\n",
    "# sys_nlg = None\n",
    "\n",
    "# [Caution] \"In Word-policy case, sys_nlg must be None\"\n",
    "\n",
    "sys_agent = PipelineAgent(sys_nlu, sys_dst, sys_policy, sys_nlg, 'sys')\n",
    "# sys_agent = Sequicity()\n",
    "# sys_agent = Damd()"
   ]
  },
  {
   "cell_type": "markdown",
   "metadata": {},
   "source": [
    "As we did before, we also define the user simulator.\n",
    "\n",
    "(In ConvLab, when RulePolicy(character='usr') is set, it is converted to `Agenda` policy, which can define a user model based on the user's goal.)"
   ]
  },
  {
   "cell_type": "code",
   "execution_count": null,
   "metadata": {
    "tags": []
   },
   "outputs": [],
   "source": [
    "user_nlu = BERTNLU()\n",
    "# user_nlu = MILU()\n",
    "# user_nlu = SVMNLU()\n",
    "user_dst = None\n",
    "user_policy = RulePolicy(character='usr')\n",
    "# user_policy = UserPolicyVHUS(load_from_zip=True)\n",
    "user_nlg = TemplateNLG(is_user=True)\n",
    "# user_nlg = SCLSTM(is_user=True)\n",
    "user_agent = PipelineAgent(user_nlu, user_dst, user_policy, user_nlg, name='user')"
   ]
  },
  {
   "cell_type": "markdown",
   "metadata": {},
   "source": [
    "## Step 3.2 Let's diagnose the system model using the analysis tool.\n",
    "\n",
    "Convlab2 provides an analysis tool, which allows you to analyze and diagnose the performance and vulnerabilities of the defined system model.\n",
    "\n",
    "In addition, you can create an HTML report to obtain a little richer statistical information. (referring to results/\\$model_name\\$ )"
   ]
  },
  {
   "cell_type": "code",
   "execution_count": null,
   "metadata": {
    "tags": []
   },
   "outputs": [],
   "source": [
    "from convlab2.util.analysis_tool.analyzer import Analyzer\n",
    "\n",
    "# if sys_nlu!=None, set use_nlu=True to collect more information\n",
    "analyzer = Analyzer(user_agent=user_agent, dataset='multiwoz')\n",
    "\n",
    "set_seed(20200131)\n",
    "analyzer.comprehensive_analyze(sys_agent=sys_agent, model_name='sys_agent', total_dialog=20)"
   ]
  },
  {
   "cell_type": "markdown",
   "metadata": {},
   "source": [
    "## Step 3.3 Let's compare the performance between several system models.\n",
    "\n",
    "Let's fill in the results for three different system models below. (Based on vscode, double-click to edit.)\n",
    "\n",
    "NLU | DST | Policy | NLG | Success rate | Book rate | Inform P | Inform R | Inform F1 | Turn(succ/all) |\n",
    "--------- | --------- | --------- | :----------: | :----------: | --------- | -------- | --------- | -------- | -------------- |\n",
    "- | - | - | - | - | - | - | - | - | - |\n",
    "- | - | - | - | - | - | - | - | - | - |\n",
    "- | - | - | - | - | - | - | - | - | - |"
   ]
  },
  {
   "cell_type": "code",
   "execution_count": null,
   "metadata": {
    "tags": []
   },
   "outputs": [],
   "source": [
    "set_seed(20200805)\n",
    "# define your own system agent2\n",
    "# sys_agent2 = PipelineAgent(...)\n",
    "# define your own system agent3\n",
    "# sys_agent3 = PipelineAgent(...)\n",
    "\n",
    "analyzer.compare_models(agent_list=[sys_agent, sys_agent, sys_agent], model_name=['sys_agent1', 'sys_agent2', 'sys_agent3'], total_dialog=20)"
   ]
  },
  {
   "cell_type": "markdown",
   "metadata": {},
   "source": [
    "# Additional. Try the End-to-end Neural Pipeline (ACL 2020) model\n",
    "\n",
    "Paper : Donghoon Ham *, Jeong-Gwan Lee *, Youngsoo Jang, and Kee-Eung Kim. 2020. End-to-End Neural Pipeline for Goal-Oriented Dialogue System using GPT-2. ACL 2020\n",
    "\n",
    "![Model architecture](image/e2e_model.png)"
   ]
  },
  {
   "cell_type": "markdown",
   "metadata": {},
   "source": [
    "First, import the model in Convlab2 and download the pretrained weights with multiwoz."
   ]
  },
  {
   "cell_type": "code",
   "execution_count": null,
   "metadata": {
    "tags": []
   },
   "outputs": [],
   "source": [
    "from convlab2.e2e.Transformer import Transformer\n",
    "sys_agent = Transformer()"
   ]
  },
  {
   "cell_type": "markdown",
   "metadata": {},
   "source": [
    "Unlike other e2e agents used above, the neural pipeline model can check the dialogue state and system action (dialogue policy)."
   ]
  },
  {
   "cell_type": "code",
   "execution_count": null,
   "metadata": {
    "tags": []
   },
   "outputs": [],
   "source": [
    "sys_agent.init_session()\n",
    "sys_agent.response(\"I want to find a moderate hotel\")"
   ]
  },
  {
   "cell_type": "markdown",
   "metadata": {},
   "source": [
    "## Let's talk to the neural pipeline model!"
   ]
  },
  {
   "cell_type": "code",
   "execution_count": null,
   "metadata": {
    "tags": []
   },
   "outputs": [],
   "source": [
    "sys_agent.init_session()\n",
    "while True:\n",
    "    raw_text = input(\">>> \")\n",
    "    while not raw_text:\n",
    "        print('not empty')\n",
    "        raw_text = input(\">>> \")\n",
    "    if raw_text == 'r':\n",
    "        sys_agent.init_session()\n",
    "        continue\n",
    "    if raw_text == 'stop':\n",
    "        break\n",
    "    out_text = sys_agent.response(raw_text)\n",
    "    print('sys: ', out_text)"
   ]
  }
 ],
 "metadata": {
  "kernelspec": {
   "display_name": "Python 3.7.7 64-bit ('0813_dialogue_system': conda)",
   "language": "python",
   "name": "python_defaultSpec_1597157894173"
  },
  "language_info": {
   "codemirror_mode": {
    "name": "ipython",
    "version": 3
   },
   "file_extension": ".py",
   "mimetype": "text/x-python",
   "name": "python",
   "nbconvert_exporter": "python",
   "pygments_lexer": "ipython3",
   "version": "3.7.7"
  }
 },
 "nbformat": 4,
 "nbformat_minor": 2
}
